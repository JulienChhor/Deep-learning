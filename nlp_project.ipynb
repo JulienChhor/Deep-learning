{
 "cells": [
  {
   "cell_type": "markdown",
   "metadata": {},
   "source": [
    "# Deep Learning for NLP - Project"
   ]
  },
  {
   "cell_type": "markdown",
   "metadata": {},
   "source": [
    "RULES:\n",
    "\n",
    "* Do not create any additional cell\n",
    "\n",
    "* Fill in the blanks\n",
    "\n",
    "* All cells should be runnable (modulo trivial compatibility bugs that we'd fix)\n",
    "\n",
    "* 4 / 20 points will be allocated to the clarity of your code\n",
    "\n",
    "* Efficient code will have a bonus\n",
    "\n",
    "DELIVERABLE:\n",
    "\n",
    "* this notebook\n",
    "* the predictions of the SST test set\n",
    "\n",
    "DO NOT INCLUDE THE DATASETS IN THE DELIVERABLE.."
   ]
  },
  {
   "cell_type": "code",
   "execution_count": 1,
   "metadata": {},
   "outputs": [],
   "source": [
    "import io\n",
    "import os\n",
    "import numpy as np\n",
    "import scipy\n",
    "import re"
   ]
  },
  {
   "cell_type": "code",
   "execution_count": 32,
   "metadata": {},
   "outputs": [],
   "source": [
    "PATH_TO_DATA = \"/home/julien/Documents/Polytechnique/4A/MVA/Deep learning/TP2/nlp_project/data/SST\""
   ]
  },
  {
   "cell_type": "markdown",
   "metadata": {},
   "source": [
    "# 1) Monolingual (English) word embeddings "
   ]
  },
  {
   "cell_type": "code",
   "execution_count": 3,
   "metadata": {},
   "outputs": [],
   "source": [
    "class Word2vec():\n",
    "    def __init__(self, fname, nmax=100000):\n",
    "        self.load_wordvec(fname, nmax)\n",
    "        self.word2id = dict.fromkeys(self.word2vec.keys())\n",
    "        self.id2word = {v: k for k, v in self.word2id.items()}\n",
    "        self.embeddings = np.array(self.word2vec.values())\n",
    "    \n",
    "    def load_wordvec(self, fname, nmax):\n",
    "        self.word2vec = {}\n",
    "        with io.open(fname, encoding='utf-8') as f:\n",
    "            next(f)\n",
    "            for i, line in enumerate(f):\n",
    "                word, vec = line.split(' ', 1)\n",
    "                self.word2vec[word] = np.fromstring(vec, sep=' ')\n",
    "                if i == (nmax - 1):\n",
    "                    break\n",
    "        print('Loaded %s pretrained word vectors' % (len(self.word2vec)))\n",
    "\n",
    "    def cos_simil(self,x1,x2):\n",
    "        # returns cosine similarity of 2 vectors\n",
    "        n1 = np.linalg.norm(x1)\n",
    "        n2 = np.linalg.norm(x2)\n",
    "        res = np.dot(x1,x2)/(n1*n2)\n",
    "        return(res)\n",
    "    \n",
    "    def most_similar(self, w, K=5, encoded = False):\n",
    "        # K most similar words: self.score  -  np.argsort \n",
    "        if (not encoded): x = self.word2vec[w]\n",
    "        else : x = w\n",
    "        v = np.array([self.cos_simil(x,y) for k,y in self.word2vec.items()])\n",
    "        #v = np.array(list(map(score2(x),self.word2vec)))\n",
    "        key = list(self.word2vec.keys())\n",
    "        arg_v = np.argsort(v)\n",
    "        res = [key[i] for i in arg_v[-K:]]\n",
    "        return(res[::-1])\n",
    "\n",
    "    def score(self, w1, w2):\n",
    "        # cosine similarity: np.dot  -  np.linalg.norm\n",
    "        x1 = self.word2vec[w1]\n",
    "        x2 = self.word2vec[w2]\n",
    "        res = self.cos_simil(x1,x2)\n",
    "        return res\n"
   ]
  },
  {
   "cell_type": "code",
   "execution_count": 53,
   "metadata": {
    "scrolled": true
   },
   "outputs": [
    {
     "name": "stdout",
     "output_type": "stream",
     "text": [
      "Loaded 200000 pretrained word vectors\n",
      "cat dog 0.671683666279249\n",
      "dog pet 0.6842064029669219\n",
      "dogs cats 0.7074389328052403\n",
      "paris france 0.7775108541288558\n",
      "germany berlin 0.7420295235998394\n",
      "['cat', 'cats', 'kitty', 'kitten', 'feline']\n",
      "['dog', 'dogs', 'puppy', 'Dog', 'doggie']\n",
      "['dogs', 'dog', 'pooches', 'Dogs', 'doggies']\n",
      "['paris', 'france', 'Paris', 'parisian', 'london']\n",
      "['germany', 'austria', 'europe', 'german', 'berlin']\n"
     ]
    }
   ],
   "source": [
    "w2v = Word2vec(os.path.join(PATH_TO_DATA, 'crawl-300d-200k.vec'), nmax=1000000)\n",
    "\n",
    "# You will be evaluated on the output of the following:\n",
    "for w1, w2 in zip(('cat', 'dog', 'dogs', 'paris', 'germany'), ('dog', 'pet', 'cats', 'france', 'berlin')):\n",
    "    print(w1, w2, w2v.score(w1, w2))\n",
    "for w1 in ['cat', 'dog', 'dogs', 'paris', 'germany']:\n",
    "    print(w2v.most_similar(w1))\n",
    "    "
   ]
  },
  {
   "cell_type": "code",
   "execution_count": 4,
   "metadata": {},
   "outputs": [],
   "source": [
    "class BoV():\n",
    "    def __init__(self, w2v):\n",
    "        self.w2v = w2v\n",
    "    \n",
    "    def encode(self, sentences, idf=False):\n",
    "        # takes a list of sentences, outputs a numpy array of sentence embeddings\n",
    "        # see TP1 for help\n",
    "        sentemb = []\n",
    "        if idf is False:\n",
    "            for sent in sentences:\n",
    "                try:\n",
    "                    # mean of word vectors\n",
    "                    #assert False\n",
    "                    assert not(sent == '')\n",
    "                    ls_wds = re.split('\\W+',sent)\n",
    "                    ls_wds = [w for w in ls_wds if w not in ['','.']]\n",
    "                    l_and_w2v = [w for w in ls_wds if w in self.w2v.word2vec]                    \n",
    "                    emb = np.average([self.w2v.word2vec[w] for w in l_and_w2v],\n",
    "                                 weights = [1 for w in l_and_w2v], axis = 0)\n",
    "                    assert not (np.shape(emb) == (0,))\n",
    "                    #v = np.array([w2v.word2vec[w] for w in l if w in self.w2v.word2vec])\n",
    "\n",
    "                    sentemb.append(emb)\n",
    "                except:\n",
    "                    sentemb.append([0.0 for i in range(300)])\n",
    "\n",
    "        else: \n",
    "            for sent in sentences:\n",
    "                try:\n",
    "                    # idf-weighted mean of word vectors\n",
    "                    #assert False\n",
    "                    assert not(sent == '')\n",
    "                    l = re.split('\\W+',sent)\n",
    "                    l = [w for w in l if w not in ['','.']]\n",
    "                    l_and_w2v = [w for w in l if w in self.w2v.word2vec]\n",
    "                    emb = np.average([self.w2v.word2vec[w] for w in l_and_w2v],\n",
    "                                     weights = [idf[w] for w in l_and_w2v], axis = 0)\n",
    "                    assert not(np.shape(emb)== (0,)) \n",
    "                    #v = np.array([w2v.word2vec[w]*idf.get(w) for w in l if w in self.w2v.word2vec])\n",
    "                    #assert not (np.shape(v) == (0,))\n",
    "                    #d = np.sum([idf.get(w) for w in l])\n",
    "                    #s = np.apply_along_axis(sum,0,v)\n",
    "                    #sentemb.append(s/d)\n",
    "                    sentemb.append(emb)\n",
    "                except:\n",
    "                    sentemb.append([0.0 for i in range(300)])\n",
    "        return np.vstack(sentemb)\n",
    "    \n",
    "\n",
    "    def most_similar(self, s, sentences, idf=False, K=5):\n",
    "        # get most similar sentences and **print** them\n",
    "        keys = self.encode(sentences, idf)\n",
    "        query = self.encode([s], idf)\n",
    "        v = np.array([self.cos_simil(s2,query[0]) for s2 in keys])\n",
    "        res = [sentences[i] for i in np.argsort(v)[-K:]]\n",
    "        print(res[::-1])\n",
    "        return(res[::-1])\n",
    "    \n",
    "    \n",
    "    def cos_simil(self,x1,x2):\n",
    "        # returns cosine similarity of 2 real valued vectors\n",
    "        n1 = np.linalg.norm(x1)\n",
    "        n2 = np.linalg.norm(x2)\n",
    "        if n1*n2 == 0 : return(-2.)\n",
    "        res = np.dot(x1,x2)/(n1*n2)\n",
    "        return(res)\n",
    "    \n",
    "\n",
    "    def score(self, s1, s2, idf=False):\n",
    "        # cosine similarity: use   np.dot  and  np.linalg.norm\n",
    "        x1 = self.encode([s1], idf)\n",
    "        x2 = self.encode([s2], idf)\n",
    "        return self.cos_simil(x1[0],x2[0])\n",
    "    \n",
    "    \n",
    "    def build_idf(self, sentences):\n",
    "        # build the idf dictionary: associate each word to its idf value\n",
    "        idf = {}\n",
    "        n = float(len(sentences))\n",
    "        for sent in sentences:\n",
    "            l = re.split('\\W+',sent)\n",
    "            l = [w for w in l if w not in ['','.']]\n",
    "            for w in l:\n",
    "                idf[w] = idf.get(w, 0) + 1.\n",
    "        for word in idf.keys():\n",
    "            idf[word] = max(1., np.log10(n / (idf[word])))\n",
    "        return idf\n",
    "\n",
    "    "
   ]
  },
  {
   "cell_type": "code",
   "execution_count": 5,
   "metadata": {},
   "outputs": [
    {
     "name": "stdout",
     "output_type": "stream",
     "text": [
      "Loaded 5000 pretrained word vectors\n",
      "['1 smiling african american boy . ', 'blond boy waterskiing . ', 'a small boy following 4 geese . ', 'boy flings mud at girl ', 'a boy jumps on another boy . ']\n",
      "0.5444733702595054\n",
      "['1 smiling african american boy . ', '5 women and 1 man are smiling for the camera . ', '3 males and 1 woman enjoying a sporting event ', 'a man rides a 4 wheeler in the desert . ', 'a man in black is juggling 3 flamed bottles . ']\n",
      "0.5673846483195514\n"
     ]
    }
   ],
   "source": [
    "w2v = Word2vec(os.path.join(PATH_TO_DATA, 'crawl-300d-200k.vec'), nmax=5000)\n",
    "s2v = BoV(w2v)\n",
    "\n",
    "# Load sentences in \"PATH_TO_DATA/sentences.txt\"\n",
    "text_file = open(os.path.join(PATH_TO_DATA, 'sentences.txt'), \"r\")\n",
    "sentences = text_file.read().split('\\n')\n",
    "text_file.close()\n",
    "\n",
    "idf = s2v.build_idf(sentences)\n",
    "\n",
    "# You will be evaluated on the output of the following:\n",
    "s2v.most_similar('' if not sentences else sentences[10], sentences)  # BoV-mean\n",
    "print(s2v.score('' if not sentences else sentences[7], '' if not sentences else sentences[13]))\n",
    "\n",
    "s2v.most_similar('' if not sentences else sentences[10], sentences, idf)  # BoV-idf\n",
    "print(s2v.score('' if not sentences else sentences[7], '' if not sentences else sentences[13], idf))"
   ]
  },
  {
   "cell_type": "markdown",
   "metadata": {},
   "source": [
    "# 2) Multilingual (English-French) word embeddings"
   ]
  },
  {
   "cell_type": "markdown",
   "metadata": {},
   "source": [
    "Let's consider a bilingual dictionary of size V_a (e.g French-English).\n",
    "\n",
    "Let's define **X** and **Y** the **French** and **English** matrices.\n",
    "\n",
    "They contain the embeddings associated to the words in the bilingual dictionary.\n",
    "\n",
    "We want to find a **mapping W** that will project the source word space (e.g French) to the target word space (e.g English).\n",
    "\n",
    "Procrustes : **W\\* = argmin || W.X - Y ||  s.t  W^T.W = Id**\n",
    "has a closed form solution:\n",
    "**W = U.V^T  where  U.Sig.V^T = SVD(Y.X^T)**\n",
    "\n",
    "In what follows, you are asked to: "
   ]
  },
  {
   "cell_type": "code",
   "execution_count": 8,
   "metadata": {},
   "outputs": [
    {
     "name": "stdout",
     "output_type": "stream",
     "text": [
      "Loaded 50000 pretrained word vectors\n",
      "Loaded 50000 pretrained word vectors\n"
     ]
    }
   ],
   "source": [
    "# 1 - Download and load 50k first vectors of\n",
    "#     https://s3-us-west-1.amazonaws.com/fasttext-vectors/wiki.en.vec\n",
    "#     https://s3-us-west-1.amazonaws.com/fasttext-vectors/wiki.fr.vec\n",
    "\n",
    "# TYPE CODE HERE\n",
    "\n",
    "nmax = 50000\n",
    "\n",
    "french = Word2vec(os.path.join(PATH_TO_DATA, 'wiki.fr.vec'), nmax)\n",
    "english = Word2vec(os.path.join(PATH_TO_DATA, 'wiki.en.vec'), nmax)\n"
   ]
  },
  {
   "cell_type": "code",
   "execution_count": 10,
   "metadata": {},
   "outputs": [],
   "source": [
    "# 2 - Get words that appear in both vocabs (= identical character strings)\n",
    "#     Use it to create the matrix X and Y (of aligned embeddings for these words)\n",
    "\n",
    "# TYPE CODE HERE\n",
    "FR = set(french.word2vec)\n",
    "EN = set(english.word2vec)\n",
    "\n",
    "inter = FR.intersection(EN)\n",
    "\n",
    "X = np.array([french.word2vec[w] for w in inter])\n",
    "Y = np.array([english.word2vec[w] for w in inter])\n",
    "\n",
    "X = X.T\n",
    "Y = Y.T"
   ]
  },
  {
   "cell_type": "code",
   "execution_count": 11,
   "metadata": {},
   "outputs": [],
   "source": [
    "# 3 - Solve the Procrustes using the scipy package and: scipy.linalg.svd() and get the optimal W\n",
    "#     Now W*French_vector is in the same space as English_vector\n",
    "import scipy.linalg\n",
    "# TYPE CODE HERE\n",
    "U, sigma, Vh = scipy.linalg.svd(Y.dot(X.T))\n",
    "W = U.dot(Vh)"
   ]
  },
  {
   "cell_type": "code",
   "execution_count": 14,
   "metadata": {},
   "outputs": [
    {
     "name": "stdout",
     "output_type": "stream",
     "text": [
      "French to English\n",
      "rapide  :  ['faster', 'quicker', 'slower', 'slow', 'fast']\n",
      "chien  :  ['dog', 'poodle', 'terrier', 'dogs', 'spaniel']\n",
      "ordinateur  :  ['computers', 'computer', 'mainframe', 'workstation', 'programmable']\n",
      "paris  :  ['paris', 'parisian', 'rouen', 'gallimard', 'sorbonne']\n",
      "allemagne  :  ['germany', 'rhineland', 'gelsenkirchen', 'saarland', 'bavaria']\n",
      "noir  :  ['black', 'white', 'noir', 'coloured', 'yellow']\n",
      "English to French\n",
      "eat  :  ['mange', 'mangent', 'mangeant', 'manger', 'eat']\n",
      "write  :  ['écrit', 'écrire', 'write', 'écrivant', 'réécrire']\n",
      "dogs  :  ['chiens', 'dogs', 'chats', 'dog', 'chien']\n",
      "paris  :  ['paris', 'parisienne', 'lyon', 'versailles', 'paris,']\n",
      "germany  :  ['allemagne', 'germany', 'rfa', 'karlsruhe', 'düsseldorf']\n"
     ]
    }
   ],
   "source": [
    "# 4 - After alignment with W, give examples of English nearest neighbors of some French words (and vice versa)\n",
    "#     You will be evaluated on that part and the code above\n",
    "\n",
    "# TYPE CODE HERE\n",
    "\n",
    "print(\"French to English\")\n",
    "for w in ['rapide', 'chien', 'ordinateur', 'paris', 'allemagne', 'noir']:\n",
    "    v = french.word2vec[w]\n",
    "    print(w, \" : \", english.most_similar(W.dot(v), encoded = True))\n",
    "    \n",
    "    \n",
    "print(\"English to French\")\n",
    "for w in ['eat', 'write', 'dogs', 'paris', 'germany']:\n",
    "    v = english.word2vec[w]\n",
    "    print(w, \" : \", french.most_similar(np.linalg.inv(W).dot(v), encoded = True))"
   ]
  },
  {
   "cell_type": "markdown",
   "metadata": {},
   "source": [
    "If you want to dive deeper on this subject: https://github.com/facebookresearch/MUSE"
   ]
  },
  {
   "cell_type": "markdown",
   "metadata": {},
   "source": [
    "# 3) Sentence classification with BoV and scikit-learn"
   ]
  },
  {
   "cell_type": "code",
   "execution_count": 30,
   "metadata": {},
   "outputs": [],
   "source": [
    "# 1 - Load train/dev/test of Stanford Sentiment TreeBank (SST)\n",
    "#     (https://nlp.stanford.edu/~socherr/EMNLP2013_RNTN.pdf)\n",
    "\n",
    "# TYPE CODE HERE\n",
    "def load_SST(fname, labels = True):\n",
    "    X = []\n",
    "    Y = []\n",
    "    if labels:\n",
    "        with io.open(fname, encoding='utf-8') as f:\n",
    "            for i, l in enumerate(f):\n",
    "                score, sentence = l.split(' ', 1)\n",
    "                X.append(sentence)\n",
    "                Y.append(int(score))\n",
    "        Y = np.array(Y)\n",
    "        return X, Y\n",
    "    else:\n",
    "        with io.open(fname, encoding='utf-8') as f:\n",
    "            for i, l in enumerate(f):\n",
    "                X.append(l)\n",
    "        return X\n",
    "    \n",
    "X_train, Y_train = load_SST('./data/SST/stsa.fine.train')\n",
    "X_dev, Y_dev = load_SST('./data/SST/stsa.fine.dev')\n",
    "X_test = load_SST('./data/SST/stsa.fine.test.X', labels = False)\n"
   ]
  },
  {
   "cell_type": "code",
   "execution_count": 33,
   "metadata": {},
   "outputs": [
    {
     "name": "stdout",
     "output_type": "stream",
     "text": [
      "Loaded 25000 pretrained word vectors\n"
     ]
    }
   ],
   "source": [
    "# 2 - Encode sentences with the BoV model above\n",
    "\n",
    "# TYPE CODE HERE\n",
    "w2v = Word2vec(os.path.join(PATH_TO_DATA, 'crawl-300d-200k.vec'), nmax=25000)\n",
    "s2v = BoV(w2v)\n",
    "\n",
    "X_train_f = s2v.encode(X_train, idf=False)\n",
    "X_dev_f = s2v.encode(X_dev, idf=False)\n",
    "X_test_f = s2v.encode(X_test, idf=False)\n",
    "X_train_t = s2v.encode(X_train, idf=s2v.build_idf(X_train))\n",
    "X_dev_t = s2v.encode(X_dev, idf=s2v.build_idf(X_dev))\n",
    "X_test_t = s2v.encode(X_test, idf=s2v.build_idf(X_test))"
   ]
  },
  {
   "cell_type": "code",
   "execution_count": 34,
   "metadata": {},
   "outputs": [
    {
     "data": {
      "image/png": "[encoded data removed]",
      "text/plain": [
       "<Figure size 432x288 with 1 Axes>"
      ]
     },
     "metadata": {
      "needs_background": "light"
     },
     "output_type": "display_data"
    }
   ],
   "source": [
    "# 3 - Learn Logistic Regression on top of sentence embeddings using scikit-learn\n",
    "#     (consider tuning the L2 regularization on the dev set)\n",
    "\n",
    "# TYPE CODE HERE\n",
    "\n",
    "import sklearn\n",
    "from sklearn.linear_model import LogisticRegression\n",
    "import matplotlib.pyplot as plt\n",
    "%matplotlib inline\n",
    "\n",
    "C_list = [0.1, 1., 5., 7., 10.]\n",
    "train_f = []\n",
    "dev_f = []\n",
    "train_t = []\n",
    "dev_t = []\n",
    "for C in C_list:\n",
    "    model = LogisticRegression(penalty='l2', C=C, \n",
    "                               class_weight=None, random_state=None,\n",
    "                               max_iter=100, multi_class='multinomial', verbose=0,\n",
    "                               warm_start=False, n_jobs=None, solver = 'newton-cg')\n",
    "    model.fit(X_train_f, Y_train)\n",
    "    train_f.append(model.score(X_train_f, Y_train))\n",
    "    dev_f.append(model.score(X_dev_f, Y_dev))\n",
    "        \n",
    "    model = LogisticRegression(penalty='l2', C=C, \n",
    "                               class_weight=None, random_state=None,\n",
    "                               max_iter=100, multi_class='multinomial', verbose=0,\n",
    "                               warm_start=False, n_jobs=None, solver = 'newton-cg')\n",
    "    model.fit(X_train_t, Y_train)\n",
    "    train_t.append(model.score(X_train_t, Y_train))\n",
    "    dev_t.append(model.score(X_dev_t, Y_dev))\n",
    "\n",
    "C = C_list[np.argmax(dev_f)]\n",
    "model = LogisticRegression(penalty='l2', C=C, \n",
    "                               class_weight=None, random_state=None,\n",
    "                               max_iter=100, multi_class='multinomial', verbose=0,\n",
    "                               warm_start=False, n_jobs=None, solver = 'newton-cg')\n",
    "model.fit(X_train_f, Y_train)\n",
    "\n",
    "plt.figure()\n",
    "plt.plot(C_list, train_f)\n",
    "plt.plot(C_list, dev_f)\n",
    "plt.plot(C_list, train_t)\n",
    "plt.plot(C_list, dev_t)\n",
    "plt.legend(['train without idf', 'dev without idf', 'train idf', 'dev idf'])\n",
    "plt.show()"
   ]
  },
  {
   "cell_type": "code",
   "execution_count": 35,
   "metadata": {},
   "outputs": [
    {
     "name": "stdout",
     "output_type": "stream",
     "text": [
      "2210 logreg_bov_y_test_sst.txt\r\n"
     ]
    }
   ],
   "source": [
    "# 4 - Produce 2210 predictions for the test set (in the same order). One line = one prediction (=0,1,2,3,4).\n",
    "#     Attach the output file \"logreg_bov_y_test_sst.txt\" to your deliverable.\n",
    "#     You will be evaluated on the results of the test set.\n",
    "\n",
    "# TYPE CODE HERE\n",
    "\n",
    "Y_test = model.predict(X_test_f)\n",
    "\n",
    "outname = \"logreg_bov_y_test_sst.txt\"\n",
    "if os.path.exists(outname): \n",
    "    os.remove(outname)\n",
    "file = open(outname, \"w\")\n",
    "for y in Y_test:\n",
    "    file.write(str(y)+'\\n')\n",
    "file.close() \n",
    "\n",
    "! wc -l logreg_bov_y_test_sst.txt"
   ]
  },
  {
   "cell_type": "code",
   "execution_count": 9,
   "metadata": {
    "collapsed": true
   },
   "outputs": [],
   "source": [
    "# BONUS!\n",
    "# 5 - Try to improve performance with another classifier\n",
    "#     Attach the output file \"XXX_bov_y_test_sst.txt\" to your deliverable (where XXX = the name of the classifier)\n",
    "\n",
    "# TYPE CODE HERE"
   ]
  },
  {
   "cell_type": "markdown",
   "metadata": {},
   "source": [
    "# 4) Sentence classification with LSTMs in Keras"
   ]
  },
  {
   "cell_type": "markdown",
   "metadata": {},
   "source": [
    "## 4.1 - Preprocessing"
   ]
  },
  {
   "cell_type": "code",
   "execution_count": 37,
   "metadata": {},
   "outputs": [],
   "source": [
    "import keras"
   ]
  },
  {
   "cell_type": "code",
   "execution_count": 38,
   "metadata": {},
   "outputs": [],
   "source": [
    "# 1 - Load train/dev/test sets of SST\n",
    "PATH_TO_DATA = \"../../data/\"\n",
    "\n",
    "# TYPE CODE HERE\n",
    "\n",
    "def load_SST_to_string(fname, labels = True):\n",
    "    X, Y = [], []\n",
    "    if labels:\n",
    "        with io.open(fname, encoding='utf-8') as f:\n",
    "            for i, l in enumerate(f):\n",
    "                score, sentence = l.split(' ', 1)\n",
    "                X.append(sentence)\n",
    "                Y.append(int(score))\n",
    "        Y = np.array(Y)\n",
    "        return X, Y\n",
    "    else:\n",
    "        with io.open(fname, encoding='utf-8') as f:\n",
    "            for i, l in enumerate(f):\n",
    "                X.append(l)\n",
    "        return X\n",
    "\n",
    "X_train, Y_train = load_SST_to_string('./data/SST/stsa.fine.train')\n",
    "X_dev, Y_dev = load_SST_to_string('./data/SST/stsa.fine.dev')\n",
    "X_test = load_SST_to_string('./data/SST/stsa.fine.test.X', labels = False)\n"
   ]
  },
  {
   "cell_type": "code",
   "execution_count": 39,
   "metadata": {},
   "outputs": [
    {
     "name": "stderr",
     "output_type": "stream",
     "text": [
      "/home/julien/anaconda3/lib/python3.6/site-packages/sklearn/preprocessing/_encoders.py:368: FutureWarning: The handling of integer data will change in version 0.22. Currently, the categories are determined based on the range [0, max(values)], while in the future they will be determined based on the unique values.\n",
      "If you want the future behaviour and silence this warning, you can specify \"categories='auto'\".\n",
      "In case you used a LabelEncoder before this OneHotEncoder to convert the categories to integers, then you can now use the OneHotEncoder directly.\n",
      "  warnings.warn(msg, FutureWarning)\n"
     ]
    }
   ],
   "source": [
    "# 2 - Transform text to integers using keras.preprocessing.text.one_hot function\n",
    "#     https://keras.io/preprocessing/text/\n",
    "\n",
    "# TYPE CODE HERE\n",
    "\n",
    "from keras.preprocessing.text import one_hot\n",
    "#     https://keras.io/preprocessing/text/\n",
    "\n",
    "def one_hot_process(X):\n",
    "    Xh = []\n",
    "    for x in X:\n",
    "        Xh.append(one_hot(x, 5000, filters='!\"#$%&()*+,-./:;<=>?@[\\]^_`{|}~', lower=True, split=' '))\n",
    "    return Xh\n",
    "\n",
    "X_train = one_hot_process(X_train)\n",
    "X_dev = one_hot_process(X_dev)\n",
    "X_test = one_hot_process(X_test)\n",
    "\n",
    "from sklearn.preprocessing import OneHotEncoder\n",
    "enc = OneHotEncoder()\n",
    "Y_train = enc.fit_transform(Y_train.reshape(-1, 1))\n",
    "Y_dev = enc.transform(Y_dev.reshape(-1, 1))\n",
    "\n"
   ]
  },
  {
   "cell_type": "markdown",
   "metadata": {},
   "source": [
    "**Padding input data**\n",
    "\n",
    "Models in Keras (and elsewhere) take batches of sentences of the same length as input. It is because Deep Learning framework have been designed to handle well Tensors, which are particularly suited for fast computation on the GPU.\n",
    "\n",
    "Since sentences have different sizes, we \"pad\" them. That is, we add dummy \"padding\" tokens so that they all have the same length.\n",
    "\n",
    "The input to a Keras model thus has this size : (batchsize, maxseqlen) where maxseqlen is the maximum length of a sentence in the batch."
   ]
  },
  {
   "cell_type": "code",
   "execution_count": 40,
   "metadata": {},
   "outputs": [],
   "source": [
    "# 3 - Pad your sequences using keras.preprocessing.sequence.pad_sequences\n",
    "#     https://keras.io/preprocessing/sequence/\n",
    "\n",
    "# TYPE CODE HERE\n",
    "from keras.preprocessing.sequence import pad_sequences\n",
    "#     https://keras.io/preprocessing/sequence/\n",
    "\n",
    "X_train = pad_sequences(X_train, maxlen=50, dtype='int32', padding='pre', truncating='pre', value=0.0)\n",
    "X_dev = pad_sequences(X_dev, maxlen=50, dtype='int32', padding='pre', truncating='pre', value=0.0)\n",
    "X_test = pad_sequences(X_test, maxlen=50, dtype='int32', padding='pre', truncating='pre', value=0.0)"
   ]
  },
  {
   "cell_type": "markdown",
   "metadata": {},
   "source": [
    "## 4.2 - Design and train your model"
   ]
  },
  {
   "cell_type": "code",
   "execution_count": 41,
   "metadata": {},
   "outputs": [],
   "source": [
    "# 4 - Design your encoder + classifier using keras.layers\n",
    "#     In Keras, Torch and other deep learning framework, we create a \"container\" which is the Sequential() module.\n",
    "#     Then we add components to this contained : the lookuptable, the LSTM, the classifier etc.\n",
    "#     All of these components are contained in the Sequential() and are trained together.\n",
    "\n",
    "\n",
    "# ADAPT CODE BELOW\n",
    "\n",
    "\n",
    "from keras.models import Sequential\n",
    "from keras.layers import Embedding, LSTM, Dense, Activation\n",
    "\n",
    "from keras import backend as K\n",
    "K.set_learning_phase(1)\n",
    "\n",
    "embed_dim  = 32 # 32  # word embedding dimension\n",
    "nhid       = 64 # 64 # number of hidden units in the LSTM\n",
    "vocab_size = 5000 # 1000  # size of the vocabulary\n",
    "n_classes  = 5\n",
    "\n",
    "model = Sequential()\n",
    "model.add(Embedding(vocab_size, embed_dim))\n",
    "model.add(LSTM(nhid, dropout=0.3, recurrent_dropout=0.3)) #0.2 0.2\n",
    "model.add(Dense(n_classes, activation='sigmoid'))\n"
   ]
  },
  {
   "cell_type": "code",
   "execution_count": 42,
   "metadata": {},
   "outputs": [
    {
     "name": "stdout",
     "output_type": "stream",
     "text": [
      "_________________________________________________________________\n",
      "Layer (type)                 Output Shape              Param #   \n",
      "=================================================================\n",
      "embedding_2 (Embedding)      (None, None, 32)          160000    \n",
      "_________________________________________________________________\n",
      "lstm_2 (LSTM)                (None, 64)                24832     \n",
      "_________________________________________________________________\n",
      "dense_2 (Dense)              (None, 5)                 325       \n",
      "=================================================================\n",
      "Total params: 185,157\n",
      "Trainable params: 185,157\n",
      "Non-trainable params: 0\n",
      "_________________________________________________________________\n",
      "None\n"
     ]
    }
   ],
   "source": [
    "# 5 - Define your loss/optimizer/metrics\n",
    "\n",
    "# MODIFY CODE BELOW\n",
    "\n",
    "loss_classif     =  'categorical_crossentropy' # find the right loss for multi-class classification\n",
    "optimizer        =  'adam' # find the right optimizer\n",
    "metrics_classif  =  ['accuracy']\n",
    "\n",
    "# Observe how easy (but blackboxed) this is in Keras\n",
    "model.compile(loss=loss_classif,\n",
    "              optimizer=optimizer,\n",
    "              metrics=metrics_classif)\n",
    "print(model.summary())\n"
   ]
  },
  {
   "cell_type": "code",
   "execution_count": 44,
   "metadata": {},
   "outputs": [
    {
     "name": "stdout",
     "output_type": "stream",
     "text": [
      "Train on 8544 samples, validate on 1101 samples\n",
      "Epoch 1/6\n",
      "8544/8544 [==============================] - 6s 645us/step - loss: 1.1622 - acc: 0.4732 - val_loss: 1.5989 - val_acc: 0.3606\n",
      "Epoch 2/6\n",
      "8544/8544 [==============================] - 13s 1ms/step - loss: 1.0883 - acc: 0.5137 - val_loss: 1.6220 - val_acc: 0.3388\n",
      "Epoch 3/6\n",
      "8544/8544 [==============================] - 12s 1ms/step - loss: 1.0129 - acc: 0.5625 - val_loss: 1.7662 - val_acc: 0.3415\n",
      "Epoch 4/6\n",
      "8544/8544 [==============================] - 12s 1ms/step - loss: 0.9383 - acc: 0.6052 - val_loss: 1.8530 - val_acc: 0.3224\n",
      "Epoch 5/6\n",
      "8544/8544 [==============================] - 12s 1ms/step - loss: 0.8581 - acc: 0.6479 - val_loss: 1.9723 - val_acc: 0.3297\n",
      "Epoch 6/6\n",
      "8544/8544 [==============================] - 13s 1ms/step - loss: 0.7936 - acc: 0.6834 - val_loss: 2.0297 - val_acc: 0.3524\n"
     ]
    }
   ],
   "source": [
    "# 6 - Train your model and find the best hyperparameters for your dev set\n",
    "#     you will be evaluated on the quality of your predictions on the test set\n",
    "\n",
    "# ADAPT CODE BELOW\n",
    "bs = 64\n",
    "n_epochs = 6 \n",
    "\n",
    "history = model.fit(X_train, Y_train, batch_size=bs, epochs=n_epochs, validation_data=(X_dev, Y_dev))\n"
   ]
  },
  {
   "cell_type": "code",
   "execution_count": 45,
   "metadata": {},
   "outputs": [
    {
     "name": "stdout",
     "output_type": "stream",
     "text": [
      "2210 logreg_lstm_y_test_sst.txt\r\n"
     ]
    }
   ],
   "source": [
    "# 7 - Generate your predictions on the test set using model.predict(x_test)\n",
    "#     https://keras.io/models/model/\n",
    "#     Log your predictions in a file (one line = one integer: 0,1,2,3,4)\n",
    "#     Attach the output file \"logreg_lstm_y_test_sst.txt\" to your deliverable.\n",
    "\n",
    "# TYPE CODE HERE\n",
    "Y_test = model.predict(X_test)\n",
    "Y_test = np.argmax(Y_test, axis = 1)\n",
    "\n",
    "outname = \"logreg_lstm_y_test_sst.txt\"\n",
    "if os.path.exists(outname): \n",
    "    os.remove(outname)\n",
    "file = open(outname, \"w\")\n",
    "for y in Y_test:\n",
    "    file.write(str(y)+'\\n')\n",
    "file.close() \n",
    "\n",
    "! wc -l logreg_lstm_y_test_sst.txt"
   ]
  },
  {
   "cell_type": "markdown",
   "metadata": {},
   "source": [
    "## 4.3 -- innovate !"
   ]
  },
  {
   "cell_type": "code",
   "execution_count": null,
   "metadata": {
    "collapsed": true
   },
   "outputs": [],
   "source": [
    "# 8 - Open question: find a model that is better on your dev set\n",
    "#     (e.g: use a 1D ConvNet, use a better classifier, pretrain your lookup tables ..)\n",
    "#     you will get point if the results on the test set are better: be careful of not overfitting your dev set too much..\n",
    "#     Attach the output file \"XXX_XXX_y_test_sst.txt\" to your deliverable.\n",
    "\n",
    "# TYPE CODE HERE\n"
   ]
  }
 ],
 "metadata": {
  "kernelspec": {
   "display_name": "Python 3",
   "language": "python",
   "name": "python3"
  },
  "language_info": {
   "codemirror_mode": {
    "name": "ipython",
    "version": 3
   },
   "file_extension": ".py",
   "mimetype": "text/x-python",
   "name": "python",
   "nbconvert_exporter": "python",
   "pygments_lexer": "ipython3",
   "version": "3.6.8"
  }
 },
 "nbformat": 4,
 "nbformat_minor": 1
}
